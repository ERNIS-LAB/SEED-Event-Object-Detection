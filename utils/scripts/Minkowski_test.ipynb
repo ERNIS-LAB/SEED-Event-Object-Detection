{
 "cells": [
  {
   "cell_type": "code",
   "execution_count": null,
   "metadata": {},
   "outputs": [],
   "source": [
    "import sys,os\n",
    "\n",
    "from tqdm import tqdm\n",
    "import torch\n",
    "import torch.nn as nn\n",
    "from metavision_ml.detection.anchors import Anchors\n",
    "\n",
    "from Model.feature_extractor import  ConditionalInput_ELSTM_ConditionalConv\n",
    "from Model.ssd_head import BoxHead\n",
    "from Model.detection import inference_step\n",
    "from Model.detection import evaluate\n",
    "from utils.dataloader import seq_dataloader\n",
    "\n",
    "\n",
    "\n",
    "dataset_path = '/media/shenqi/data/Gen4_multi_timesurface_FromDat'\n",
    "dataset_type = 'gen4'\n",
    "dataloader = seq_dataloader(dataset_path = dataset_path, dataset_type = dataset_type, num_tbins = 12, batch_size = 1, channels = 6)\n",
    "\n",
    "validate_start = 50\n",
    "validate_end = 50\n",
    "\n",
    "for epoch in range(validate_start, validate_end+1):\n",
    "    output_val_list = []\n",
    "    cnt_val = 0\n",
    "    \n",
    "    \n",
    "    with tqdm(total=len(dataloader.seq_dataloader_test), desc=f'Validation',ncols=120) as pbar:\n",
    "                \n",
    "        for data in dataloader.seq_dataloader_test:\n",
    "            sys.stdout.flush()\n",
    "            with torch.no_grad():\n",
    "                cnt_val += 1\n",
    "                data['inputs'] = data['inputs'].to(device='cuda')\n",
    "                for data_tbins in data['inputs']:\n",
    "                    print(data_tbins.shape)\n",
    "                \n",
    "                \n",
    "                pbar.update(1)\n",
    "\n"
   ]
  }
 ],
 "metadata": {
  "kernelspec": {
   "display_name": "venv_master_thesis",
   "language": "python",
   "name": "python3"
  },
  "language_info": {
   "codemirror_mode": {
    "name": "ipython",
    "version": 3
   },
   "file_extension": ".py",
   "mimetype": "text/x-python",
   "name": "python",
   "nbconvert_exporter": "python",
   "pygments_lexer": "ipython3",
   "version": "3.10.12"
  }
 },
 "nbformat": 4,
 "nbformat_minor": 2
}
